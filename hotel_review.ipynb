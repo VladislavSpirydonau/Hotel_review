{
 "cells": [
  {
   "cell_type": "code",
   "execution_count": 106,
   "metadata": {},
   "outputs": [],
   "source": [
    "import pandas as pd\n",
    "import numpy as np\n",
    "import config\n",
    "import geolocate_function\n",
    "import path\n",
    "from nltk.tokenize import word_tokenize\n",
    "import nltk\n",
    "from nltk.corpus import stopwords"
   ]
  },
  {
   "cell_type": "code",
   "execution_count": 107,
   "metadata": {},
   "outputs": [],
   "source": [
    "df=pd.read_csv(path.hotel_csv_path)\n"
   ]
  },
  {
   "cell_type": "code",
   "execution_count": 108,
   "metadata": {},
   "outputs": [],
   "source": [
    "df, hotel_missing_list = geolocate_function.coordinate_fill(df)\n"
   ]
  },
  {
   "cell_type": "code",
   "execution_count": 109,
   "metadata": {},
   "outputs": [],
   "source": [
    "df.drop(columns='Unnamed: 0', inplace =True)\n",
    "df.Hotel_Address = df.Hotel_Address.str.lower()"
   ]
  },
  {
   "cell_type": "markdown",
   "metadata": {},
   "source": [
    "I want to separate and add another column, country name from the addresse. because at this stage of development I don't see why i can need whole addresse. So i checked and sow that so far there is only United Kingdom that has 2 words in country name.   "
   ]
  },
  {
   "cell_type": "code",
   "execution_count": 110,
   "metadata": {},
   "outputs": [],
   "source": [
    "df.Hotel_Address = df.Hotel_Address.str.replace('united kingdom','uk')\n",
    "df['Country'] = df['Hotel_Address'].apply(lambda x: x.split()[-1] if len(x.split()) > 1 else x)\n"
   ]
  },
  {
   "cell_type": "code",
   "execution_count": 59,
   "metadata": {},
   "outputs": [
    {
     "data": {
      "text/plain": [
       "array(['netherlands', 'uk', 'france', 'spain', 'italy', 'austria'],\n",
       "      dtype=object)"
      ]
     },
     "execution_count": 59,
     "metadata": {},
     "output_type": "execute_result"
    }
   ],
   "source": [
    "df.Country.unique()"
   ]
  },
  {
   "cell_type": "markdown",
   "metadata": {},
   "source": [
    "I can see that there is only 6 countrys. Now i want to remove features that in my opinion is not important"
   ]
  },
  {
   "cell_type": "code",
   "execution_count": 111,
   "metadata": {},
   "outputs": [],
   "source": [
    "df1 = df.drop(columns=['Additional_Number_of_Scoring', 'Review_Date','Reviewer_Nationality','days_since_review', 'lat','lng','Review_Total_Negative_Word_Counts','Review_Total_Positive_Word_Counts','Total_Number_of_Reviews_Reviewer_Has_Given','Reviewer_Score','Total_Number_of_Reviews', 'Negative_Review','Positive_Review'])"
   ]
  },
  {
   "cell_type": "code",
   "execution_count": 121,
   "metadata": {},
   "outputs": [
    {
     "data": {
      "text/html": [
       "<div>\n",
       "<style scoped>\n",
       "    .dataframe tbody tr th:only-of-type {\n",
       "        vertical-align: middle;\n",
       "    }\n",
       "\n",
       "    .dataframe tbody tr th {\n",
       "        vertical-align: top;\n",
       "    }\n",
       "\n",
       "    .dataframe thead th {\n",
       "        text-align: right;\n",
       "    }\n",
       "</style>\n",
       "<table border=\"1\" class=\"dataframe\">\n",
       "  <thead>\n",
       "    <tr style=\"text-align: right;\">\n",
       "      <th></th>\n",
       "      <th>Hotel_Address</th>\n",
       "      <th>Average_Score</th>\n",
       "      <th>Hotel_Name</th>\n",
       "      <th>Tags</th>\n",
       "      <th>Country</th>\n",
       "    </tr>\n",
       "  </thead>\n",
       "  <tbody>\n",
       "    <tr>\n",
       "      <th>0</th>\n",
       "      <td>s gravesandestraat 55 oost 1092 aa amsterdam ...</td>\n",
       "      <td>7.7</td>\n",
       "      <td>Hotel Arena</td>\n",
       "      <td>leisure trip   couple   duplex double room   ...</td>\n",
       "      <td>netherlands</td>\n",
       "    </tr>\n",
       "    <tr>\n",
       "      <th>1</th>\n",
       "      <td>s gravesandestraat 55 oost 1092 aa amsterdam ...</td>\n",
       "      <td>7.7</td>\n",
       "      <td>Hotel Arena</td>\n",
       "      <td>leisure trip   couple   duplex double room   ...</td>\n",
       "      <td>netherlands</td>\n",
       "    </tr>\n",
       "    <tr>\n",
       "      <th>2</th>\n",
       "      <td>s gravesandestraat 55 oost 1092 aa amsterdam ...</td>\n",
       "      <td>7.7</td>\n",
       "      <td>Hotel Arena</td>\n",
       "      <td>leisure trip   family with young children   d...</td>\n",
       "      <td>netherlands</td>\n",
       "    </tr>\n",
       "    <tr>\n",
       "      <th>3</th>\n",
       "      <td>s gravesandestraat 55 oost 1092 aa amsterdam ...</td>\n",
       "      <td>7.7</td>\n",
       "      <td>Hotel Arena</td>\n",
       "      <td>leisure trip   solo traveler   duplex double ...</td>\n",
       "      <td>netherlands</td>\n",
       "    </tr>\n",
       "    <tr>\n",
       "      <th>4</th>\n",
       "      <td>s gravesandestraat 55 oost 1092 aa amsterdam ...</td>\n",
       "      <td>7.7</td>\n",
       "      <td>Hotel Arena</td>\n",
       "      <td>leisure trip   couple   suite   stayed 2 nigh...</td>\n",
       "      <td>netherlands</td>\n",
       "    </tr>\n",
       "  </tbody>\n",
       "</table>\n",
       "</div>"
      ],
      "text/plain": [
       "                                       Hotel_Address  Average_Score  \\\n",
       "0   s gravesandestraat 55 oost 1092 aa amsterdam ...            7.7   \n",
       "1   s gravesandestraat 55 oost 1092 aa amsterdam ...            7.7   \n",
       "2   s gravesandestraat 55 oost 1092 aa amsterdam ...            7.7   \n",
       "3   s gravesandestraat 55 oost 1092 aa amsterdam ...            7.7   \n",
       "4   s gravesandestraat 55 oost 1092 aa amsterdam ...            7.7   \n",
       "\n",
       "    Hotel_Name                                               Tags      Country  \n",
       "0  Hotel Arena   leisure trip   couple   duplex double room   ...  netherlands  \n",
       "1  Hotel Arena   leisure trip   couple   duplex double room   ...  netherlands  \n",
       "2  Hotel Arena   leisure trip   family with young children   d...  netherlands  \n",
       "3  Hotel Arena   leisure trip   solo traveler   duplex double ...  netherlands  \n",
       "4  Hotel Arena   leisure trip   couple   suite   stayed 2 nigh...  netherlands  "
      ]
     },
     "execution_count": 121,
     "metadata": {},
     "output_type": "execute_result"
    }
   ],
   "source": [
    "df1.head()"
   ]
  },
  {
   "cell_type": "markdown",
   "metadata": {},
   "source": [
    "So now i want to transfer tags from list to string so i can later tokenize them, and while doing it I realize that now it's just a string so i only need to remoove unnescesary symbols"
   ]
  },
  {
   "cell_type": "code",
   "execution_count": 120,
   "metadata": {},
   "outputs": [],
   "source": [
    "replace_dict = {\"'\": '', \"[\": '', \"]\": '', \",\": ''}\n",
    "for pattern, replacement in replace_dict.items():\n",
    "    df1['Tags'] = df1['Tags'].str.replace(pattern, replacement)\n",
    "\n",
    "df1.Tags = df1.Tags.str.lower()\n"
   ]
  },
  {
   "cell_type": "code",
   "execution_count": 127,
   "metadata": {},
   "outputs": [
    {
     "name": "stderr",
     "output_type": "stream",
     "text": [
      "[nltk_data] Downloading package punkt to\n",
      "[nltk_data]     C:\\Users\\spiri\\AppData\\Roaming\\nltk_data...\n",
      "[nltk_data]   Package punkt is already up-to-date!\n",
      "[nltk_data] Downloading package stopwords to\n",
      "[nltk_data]     C:\\Users\\spiri\\AppData\\Roaming\\nltk_data...\n",
      "[nltk_data]   Package stopwords is already up-to-date!\n"
     ]
    }
   ],
   "source": [
    "nltk.download('punkt')\n",
    "nltk.download('stopwords')\n",
    "\n",
    "def hotel_chosing(country, expectation, top_n=5):\n",
    "    \n",
    "    \n",
    "    df_country = df1[df1['Country'] == country.lower()]\n",
    "    \n",
    "    # Tokenize the description\n",
    "    description_tokens = word_tokenize(expectation)\n",
    "    \n",
    "    # Remove stopwords from the description\n",
    "    description_tokens = [word for word in description_tokens if not word in stopwords.words()]\n",
    "    \n",
    "    # Create a mask for rows where the Tags column contains any of the words in the description\n",
    "    mask = df_country['Tags'].apply(lambda x: any(word in x for word in description_tokens))\n",
    "    \n",
    "    # Filter the dataframe using the mask\n",
    "    df_description = df_country[mask]\n",
    "    #filtering duplicate columns\n",
    "    df_description.drop(columns='Tags', inplace=True)\n",
    "    df_description.drop_duplicates(inplace=True)\n",
    "    # Sort the dataframe based on the Average_Score and get the top_n hotels\n",
    "    top_hotels = df_description.sort_values('Average_Score', ascending=False).head(top_n)\n",
    "    \n",
    "    return print(top_hotels)"
   ]
  },
  {
   "cell_type": "code",
   "execution_count": 138,
   "metadata": {},
   "outputs": [
    {
     "name": "stdout",
     "output_type": "stream",
     "text": [
      "                                            Hotel_Address  Average_Score  \\\n",
      "14736   1 suffolk place westminster borough london sw1...            9.6   \n",
      "185606  41 buckingham palace road westminster borough ...            9.6   \n",
      "391004  one ham yard westminster borough london w1d 7d...            9.5   \n",
      "291415  buckingham gate westminster borough london sw1...            9.5   \n",
      "53782   15 17 charlotte street hotel westminster borou...            9.5   \n",
      "11266   1 kensington court kensington and chelsea lond...            9.5   \n",
      "176751  4 richmond mews westminster borough london w1d...            9.5   \n",
      "14836      1 waterview drive greenwich london se10 0tw uk            9.4   \n",
      "147508    31 st thomas street southwark london se1 9qu uk            9.4   \n",
      "38143   12 folgate street city of london london e1 6bx uk            9.4   \n",
      "\n",
      "                                          Hotel_Name Country  \n",
      "14736                                Haymarket Hotel      uk  \n",
      "185606                                            41      uk  \n",
      "391004                                Ham Yard Hotel      uk  \n",
      "291415  Taj 51 Buckingham Gate Suites and Residences      uk  \n",
      "53782                         Charlotte Street Hotel      uk  \n",
      "11266                     Milestone Hotel Kensington      uk  \n",
      "176751                                The Soho Hotel      uk  \n",
      "14836                 Intercontinental London The O2      uk  \n",
      "147508          Shangri La Hotel at The Shard London      uk  \n",
      "38143                                Batty Langley s      uk  \n"
     ]
    },
    {
     "name": "stderr",
     "output_type": "stream",
     "text": [
      "C:\\Users\\spiri\\AppData\\Local\\Temp\\ipykernel_10736\\1963807946.py:21: SettingWithCopyWarning: \n",
      "A value is trying to be set on a copy of a slice from a DataFrame\n",
      "\n",
      "See the caveats in the documentation: https://pandas.pydata.org/pandas-docs/stable/user_guide/indexing.html#returning-a-view-versus-a-copy\n",
      "  df_description.drop(columns='Tags', inplace=True)\n",
      "C:\\Users\\spiri\\AppData\\Local\\Temp\\ipykernel_10736\\1963807946.py:22: SettingWithCopyWarning: \n",
      "A value is trying to be set on a copy of a slice from a DataFrame\n",
      "\n",
      "See the caveats in the documentation: https://pandas.pydata.org/pandas-docs/stable/user_guide/indexing.html#returning-a-view-versus-a-copy\n",
      "  df_description.drop_duplicates(inplace=True)\n"
     ]
    }
   ],
   "source": [
    "hotel_chosing('uk', 'busines',10)"
   ]
  },
  {
   "cell_type": "code",
   "execution_count": null,
   "metadata": {},
   "outputs": [],
   "source": []
  }
 ],
 "metadata": {
  "kernelspec": {
   "display_name": "tf-gpu",
   "language": "python",
   "name": "python3"
  },
  "language_info": {
   "codemirror_mode": {
    "name": "ipython",
    "version": 3
   },
   "file_extension": ".py",
   "mimetype": "text/x-python",
   "name": "python",
   "nbconvert_exporter": "python",
   "pygments_lexer": "ipython3",
   "version": "3.9.18"
  }
 },
 "nbformat": 4,
 "nbformat_minor": 2
}
